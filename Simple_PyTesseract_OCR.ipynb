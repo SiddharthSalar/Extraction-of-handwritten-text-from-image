{
  "nbformat": 4,
  "nbformat_minor": 0,
  "metadata": {
    "colab": {
      "name": "PyTesseract.ipynb",
      "provenance": [],
      "collapsed_sections": [],
      "mount_file_id": "https://github.com/harvarsri/TCS-iON/blob/master/PyTesseract.ipynb",
      "authorship_tag": "ABX9TyODycyjolket8WxCQtAY14/",
      "include_colab_link": true
    },
    "kernelspec": {
      "name": "python3",
      "display_name": "Python 3"
    }
  },
  "cells": [
    {
      "cell_type": "markdown",
      "metadata": {
        "id": "view-in-github",
        "colab_type": "text"
      },
      "source": [
        "<a href=\"https://colab.research.google.com/github/harvarsri/TCS-iON/blob/master/PyTesseract.ipynb\" target=\"_parent\"><img src=\"https://colab.research.google.com/assets/colab-badge.svg\" alt=\"Open In Colab\"/></a>"
      ]
    },
    {
      "cell_type": "code",
      "metadata": {
        "id": "fxrQxtbkTxL_",
        "colab_type": "code",
        "colab": {}
      },
      "source": [
        "#Installing PyTesseract & Importing Libraries\n",
        "!sudo apt install tesseract-ocr\n",
        "!pip install pytesseract\n",
        "\n",
        "import pytesseract as tess\n",
        "from PIL import Image\n",
        "\n",
        "print('Import Done')"
      ],
      "execution_count": 0,
      "outputs": []
    },
    {
      "cell_type": "code",
      "metadata": {
        "id": "Yaoae03vPkxE",
        "colab_type": "code",
        "colab": {}
      },
      "source": [
        "#Importing the Image file into a variable\n",
        "\n",
        "img = Image.open('/content/drive/My Drive/sample_text.png')\n",
        "\n",
        "#Converting Image to Text\n",
        "\n",
        "text = tess.image_to_string(img)"
      ],
      "execution_count": 0,
      "outputs": []
    },
    {
      "cell_type": "code",
      "metadata": {
        "id": "HWa4ZyknV5Ws",
        "colab_type": "code",
        "colab": {
          "base_uri": "https://localhost:8080/",
          "height": 246
        },
        "outputId": "379c8420-c68a-4967-b701-074622017ab5"
      },
      "source": [
        "#Actual Image\n",
        "\n",
        "display(img)"
      ],
      "execution_count": 15,
      "outputs": [
        {
          "output_type": "display_data",
          "data": {
            "image/png": "[encoded data removed]",
            "text/plain": [
              "<PIL.PngImagePlugin.PngImageFile image mode=L size=512x229 at 0x7FC29883F978>"
            ]
          },
          "metadata": {
            "tags": []
          }
        }
      ]
    },
    {
      "cell_type": "code",
      "metadata": {
        "id": "RfLV7V8xTWeY",
        "colab_type": "code",
        "colab": {
          "base_uri": "https://localhost:8080/",
          "height": 102
        },
        "outputId": "d5747156-a0df-4782-d488-d020eefe1fab"
      },
      "source": [
        "#Predicted Text\n",
        "\n",
        "print(text)"
      ],
      "execution_count": 12,
      "outputs": [
        {
          "output_type": "stream",
          "text": [
            "This is the first line of\n",
            "this text example.\n",
            "\n",
            "This is the second line\n",
            "of the same text.\n"
          ],
          "name": "stdout"
        }
      ]
    }
  ]
}